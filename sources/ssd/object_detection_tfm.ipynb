{
 "cells": [
  {
   "cell_type": "markdown",
   "metadata": {
    "colab_type": "text",
    "id": "kFSqkTCdWKMI"
   },
   "source": [
    "# Imports"
   ]
  },
  {
   "cell_type": "code",
   "execution_count": 1,
   "metadata": {
    "colab": {
     "autoexec": {
      "startup": false,
      "wait_interval": 0
     }
    },
    "colab_type": "code",
    "id": "hV4P5gyTWKMI"
   },
   "outputs": [],
   "source": [
    "import numpy as np\n",
    "import cv2\n",
    "import os\n",
    "import six.moves.urllib as urllib\n",
    "import sys\n",
    "import tarfile\n",
    "import tensorflow as tf\n",
    "import zipfile\n",
    "import json\n",
    "import csv\n",
    "\n",
    "from distutils.version import StrictVersion\n",
    "from collections import defaultdict\n",
    "from io import StringIO\n",
    "from matplotlib import pyplot as plt\n",
    "from PIL import Image\n",
    "\n",
    "from scipy.spatial import distance\n",
    "\n",
    "# This is needed since the notebook is stored in the object_detection folder.\n",
    "sys.path.append(\"..\")\n",
    "from object_detection.utils import ops as utils_ops\n",
    "\n",
    "if StrictVersion(tf.__version__) < StrictVersion('1.9.0'):\n",
    "    raise ImportError('Please upgrade your TensorFlow installation to v1.9.* or later!')\n"
   ]
  },
  {
   "cell_type": "markdown",
   "metadata": {
    "colab_type": "text",
    "id": "Wy72mWwAWKMK"
   },
   "source": [
    "## Env setup"
   ]
  },
  {
   "cell_type": "code",
   "execution_count": 2,
   "metadata": {
    "colab": {
     "autoexec": {
      "startup": false,
      "wait_interval": 0
     }
    },
    "colab_type": "code",
    "id": "v7m_NY_aWKMK"
   },
   "outputs": [],
   "source": [
    "# This is needed to display the images.\n",
    "%matplotlib inline"
   ]
  },
  {
   "cell_type": "markdown",
   "metadata": {
    "colab_type": "text",
    "id": "r5FNuiRPWKMN"
   },
   "source": [
    "## Object detection imports\n"
   ]
  },
  {
   "cell_type": "code",
   "execution_count": 3,
   "metadata": {
    "colab": {
     "autoexec": {
      "startup": false,
      "wait_interval": 0
     }
    },
    "colab_type": "code",
    "id": "bm0_uNRnWKMN"
   },
   "outputs": [
    {
     "name": "stderr",
     "output_type": "stream",
     "text": [
      "/home/angel/.virtualenvs/cv/lib/python3.5/site-packages/matplotlib/__init__.py:1405: UserWarning: \n",
      "This call to matplotlib.use() has no effect because the backend has already\n",
      "been chosen; matplotlib.use() must be called *before* pylab, matplotlib.pyplot,\n",
      "or matplotlib.backends is imported for the first time.\n",
      "\n",
      "  warnings.warn(_use_error_msg)\n"
     ]
    }
   ],
   "source": [
    "from utils import label_map_util\n",
    "from utils import visualization_utils as vis_util"
   ]
  },
  {
   "cell_type": "markdown",
   "metadata": {},
   "source": [
    "# Helper Code"
   ]
  },
  {
   "cell_type": "markdown",
   "metadata": {},
   "source": [
    "### load single image"
   ]
  },
  {
   "cell_type": "code",
   "execution_count": 4,
   "metadata": {},
   "outputs": [],
   "source": [
    "def load_image_into_numpy_array(image):\n",
    "    (im_width, im_height) = image.size\n",
    "    return np.array(image.getdata()).reshape((im_height, im_width, 3)).astype(np.uint8)"
   ]
  },
  {
   "cell_type": "markdown",
   "metadata": {},
   "source": [
    "### run inference over a single image"
   ]
  },
  {
   "cell_type": "code",
   "execution_count": 5,
   "metadata": {},
   "outputs": [],
   "source": [
    "def run_inference_for_single_image(image, graph):\n",
    "    with graph.as_default():\n",
    "        with tf.Session() as sess:\n",
    "            # Get handles to input and output tensors\n",
    "            ops = tf.get_default_graph().get_operations()\n",
    "            all_tensor_names = {output.name for op in ops for output in op.outputs}\n",
    "            tensor_dict = {}\n",
    "            \n",
    "            for key in ['num_detections', 'detection_boxes', 'detection_scores','detection_classes', 'detection_masks']:\n",
    "                tensor_name = key + ':0'\n",
    "                if tensor_name in all_tensor_names:\n",
    "                    tensor_dict[key] = tf.get_default_graph().get_tensor_by_name(tensor_name)\n",
    "      \n",
    "            if 'detection_masks' in tensor_dict:\n",
    "                # The following processing is only for single image\n",
    "                detection_boxes = tf.squeeze(tensor_dict['detection_boxes'], [0])\n",
    "                detection_masks = tf.squeeze(tensor_dict['detection_masks'], [0])\n",
    "                \n",
    "                # Reframe is required to translate mask from box coordinates to image coordinates and fit the image size.\n",
    "                real_num_detection = tf.cast(tensor_dict['num_detections'][0], tf.int32)\n",
    "                detection_boxes = tf.slice(detection_boxes, [0, 0], [real_num_detection, -1])\n",
    "                detection_masks = tf.slice(detection_masks, [0, 0, 0], [real_num_detection, -1, -1])\n",
    "                detection_masks_reframed = utils_ops.reframe_box_masks_to_image_masks(detection_masks, detection_boxes, image.shape[0], image.shape[1])\n",
    "                detection_masks_reframed = tf.cast(tf.greater(detection_masks_reframed, 0.5), tf.uint8)\n",
    "                \n",
    "                # Follow the convention by adding back the batch dimension\n",
    "                tensor_dict['detection_masks'] = tf.expand_dims(detection_masks_reframed, 0)\n",
    "      \n",
    "            image_tensor = tf.get_default_graph().get_tensor_by_name('image_tensor:0')\n",
    "\n",
    "            # Run inference\n",
    "            output_dict = sess.run(tensor_dict, feed_dict={image_tensor: np.expand_dims(image, 0)})\n",
    "\n",
    "            # all outputs are float32 numpy arrays, so convert types as appropriate\n",
    "            output_dict['num_detections'] = int(output_dict['num_detections'][0])\n",
    "            output_dict['detection_classes'] = output_dict['detection_classes'][0].astype(np.uint8)\n",
    "            output_dict['detection_boxes'] = output_dict['detection_boxes'][0]\n",
    "            output_dict['detection_scores'] = output_dict['detection_scores'][0]\n",
    "            \n",
    "            if 'detection_masks' in output_dict:\n",
    "                output_dict['detection_masks'] = output_dict['detection_masks'][0]\n",
    "    \n",
    "    return output_dict"
   ]
  },
  {
   "cell_type": "markdown",
   "metadata": {},
   "source": [
    "### intersection over union"
   ]
  },
  {
   "cell_type": "code",
   "execution_count": 6,
   "metadata": {},
   "outputs": [],
   "source": [
    "# https://www.pyimagesearch.com/2016/11/07/intersection-over-union-iou-for-object-detection/\n",
    "\n",
    "def bb_intersection_over_union(boxA, boxB):\n",
    "    \"\"\"\n",
    "        calculate IoU accuracy measure\n",
    "    \"\"\"\n",
    "    # determine the (x, y)-coordinates of the intersection rectangle\n",
    "    xA = max(boxA[0], boxB[0])  # xmin\n",
    "    yA = max(boxA[1], boxB[1])  # ymin\n",
    "    xB = min(boxA[2], boxB[2])  # xmax\n",
    "    yB = min(boxA[3], boxB[3])  # ymax\n",
    "\n",
    "    # compute the area of intersection rectangle\n",
    "    interArea = max(0, xB - xA + 1) * max(0, yB - yA + 1)\n",
    "\n",
    "    # compute the area of both the prediction and ground-truth rectangles\n",
    "    boxAArea = (boxA[2] - boxA[0] + 1) * (boxA[3] - boxA[1] + 1)\n",
    "    boxBArea = (boxB[2] - boxB[0] + 1) * (boxB[3] - boxB[1] + 1)\n",
    "\n",
    "    # compute the intersection over union by taking the intersection area and dividing it \n",
    "    # by the sum of prediction + ground-truth areas - the interesection area\n",
    "    iou = interArea / float(boxAArea + boxBArea - interArea)\n",
    "\n",
    "    # return the intersection over union value\n",
    "    return iou"
   ]
  },
  {
   "cell_type": "markdown",
   "metadata": {},
   "source": [
    "### image percentage occupacy "
   ]
  },
  {
   "cell_type": "code",
   "execution_count": 7,
   "metadata": {},
   "outputs": [],
   "source": [
    "def pannelPercentageOccupacy(totalPixels, pannelPixels):\n",
    "    \"\"\"\n",
    "     ocuppation percentage of panel over all image(value between 0 and 1)   \n",
    "    \"\"\"\n",
    "    return pannelPixels / totalPixels"
   ]
  },
  {
   "cell_type": "markdown",
   "metadata": {},
   "source": [
    "### center of bounding box"
   ]
  },
  {
   "cell_type": "code",
   "execution_count": 8,
   "metadata": {},
   "outputs": [],
   "source": [
    "def getCenterBox(box):\n",
    "    \"\"\"\n",
    "        get center of bounding box define by (xmin,ymin,xmax,ymax)\n",
    "    \"\"\"\n",
    "    x = box[2] - box[0]\n",
    "    y = box[3] - box[1]\n",
    "    \n",
    "    return (x//2 + box[0], y//2 + box[1])  "
   ]
  },
  {
   "cell_type": "markdown",
   "metadata": {},
   "source": [
    "### image groundtruth bounding boxes"
   ]
  },
  {
   "cell_type": "code",
   "execution_count": 9,
   "metadata": {},
   "outputs": [],
   "source": [
    "def boundingBoxGroundTruth(jsonfilepath, filename):\n",
    "    \"\"\"\n",
    "        get groundtruth panel boxes for filename image\n",
    "    \"\"\"\n",
    "    annotations = json.load(open(jsonfilepath))\n",
    "    for a in annotations.values():\n",
    "        if(a['filename'] == filename):\n",
    "            imageValues = a\n",
    "            polygons = [r['shape_attributes'] for r in imageValues['regions'].values()]\n",
    "            boxes = []\n",
    "            for p in polygons:\n",
    "                x_list, y_list = p['all_points_x'], p['all_points_y']\n",
    "                ymin, xmin, ymax, xmax = min(y_list), min(x_list), max(y_list), max(x_list)\n",
    "                boxes.append((xmin, ymin, xmax, ymax))\n",
    "    \n",
    "    return boxes"
   ]
  },
  {
   "cell_type": "markdown",
   "metadata": {},
   "source": [
    "### graph with test images info"
   ]
  },
  {
   "cell_type": "code",
   "execution_count": 10,
   "metadata": {},
   "outputs": [],
   "source": [
    "def groundTruthSizeGraph(jsonfilepath, csvfilepath):\n",
    "    \"\"\"\n",
    "        create map with panels in groundtruth separates by panel size\n",
    "    \"\"\"\n",
    "    count = [0,0,0,0,0,0,0]\n",
    "    \n",
    "    annotations = json.load(open(jsonfilepath))\n",
    "    for a in annotations.values():\n",
    "        img = cv2.imread(os.path.join('test_images',a['filename']))\n",
    "        totalSize =  img.shape[0] * img.shape[1]\n",
    "        \n",
    "        polygons = [r['shape_attributes'] for r in a['regions'].values()]\n",
    "        for p in polygons:\n",
    "            x_list, y_list = p['all_points_x'], p['all_points_y']\n",
    "            ymin, xmin, ymax, xmax = min(y_list), min(x_list), max(y_list), max(x_list)\n",
    "            \n",
    "            totalPanelSize = (ymax - ymin) * (xmax - xmin)\n",
    "            percentage = pannelPercentageOccupacy(totalSize, totalPanelSize)\n",
    "            \n",
    "            # increment instance count\n",
    "            if((percentage >= 0.0) and (percentage < 0.1)): count[0] += 1\n",
    "            elif((percentage >= 0.1) and (percentage < 0.2)): count[1] += 1\n",
    "            elif((percentage >= 0.2) and (percentage < 0.3)): count[2] += 1\n",
    "            elif((percentage >= 0.3) and (percentage < 0.4)): count[3] += 1\n",
    "            elif((percentage >= 0.4) and (percentage < 0.5)): count[4] += 1\n",
    "            elif((percentage >= 0.5) and (percentage < 0.6)): count[5] += 1\n",
    "            elif((percentage >= 0.6) and (percentage < 0.7)): count[6] += 1\n",
    "            \n",
    "    # create graph with matplotlib\n",
    "    x = np.arange(len(count))\n",
    "    \n",
    "    fig, axs = plt.subplots()\n",
    "    plt.bar(x, count)\n",
    "    axs.set_ylim(0,80)\n",
    "    plt.xticks(x, tuple([str(i)+\"-\"+str(i+10)+\"%\" for i in range(0,70,10)]))\n",
    "    \n",
    "    fig.suptitle('GroundTruth Test:  number of real panels clasified by panel Size', fontsize=16)\n",
    "    axs.set_ylabel('nº panels')\n",
    "    axs.set_xlabel('panel size')\n",
    "    plt.show()\n",
    "    \n",
    "    # create csv report\n",
    "    column_name = ['box size', 'nº boxes']\n",
    "    csvfile = open(csvfilepath, 'w')\n",
    "    writer = csv.writer(csvfile, delimiter=',', quotechar='|', quoting=csv.QUOTE_MINIMAL)\n",
    "    writer.writerow(column_name)\n",
    "    \n",
    "    for idx, i in enumerate(range(0,70,10)):\n",
    "        writer.writerow([str(i)+\"-\"+str(i+10)+\"%\", count[idx]])\n",
    "        \n",
    "    csvfile.close()"
   ]
  },
  {
   "cell_type": "markdown",
   "metadata": {},
   "source": [
    "### nº images vs panel size graph and report"
   ]
  },
  {
   "cell_type": "code",
   "execution_count": 11,
   "metadata": {},
   "outputs": [],
   "source": [
    "# precision for detections (if a image has not box prediction, this no appear in statistics)\n",
    "\n",
    "def predictionsHistogram(predictionMap, csvfilepath):\n",
    "    \"\"\"\n",
    "        create graph and csv report to show nº images for each precision value\n",
    "    \"\"\"\n",
    "    # initial counts\n",
    "    count = [0,0,0,0,0,0,0,0,0,0]\n",
    "    \n",
    "    # loop over image IoU\n",
    "    for imageInfo in predictionMap.values():\n",
    "        if len(imageInfo['boxes']) > 0:\n",
    "            for pred in imageInfo['boxes'].values():\n",
    "                iou = pred['IoU']\n",
    "                \n",
    "                # increment instance count\n",
    "                if((iou >= 0.0) and (iou < 0.1)): count[0] += 1\n",
    "                elif((iou >= 0.1) and (iou < 0.2)): count[1] += 1\n",
    "                elif((iou >= 0.2) and (iou < 0.3)): count[2] += 1\n",
    "                elif((iou >= 0.3) and (iou < 0.4)): count[3] += 1\n",
    "                elif((iou >= 0.4) and (iou < 0.5)): count[4] += 1\n",
    "                elif((iou >= 0.5) and (iou < 0.6)): count[5] += 1\n",
    "                elif((iou >= 0.6) and (iou < 0.7)): count[6] += 1\n",
    "                elif((iou >= 0.7) and (iou < 0.8)): count[7] += 1\n",
    "                elif((iou >= 0.8) and (iou < 0.9)): count[8] += 1\n",
    "                else: count[9] += 1\n",
    "                \n",
    "    # create graph with matplotlib    \n",
    "    x = np.arange(len(count))\n",
    "    \n",
    "    fig, axs = plt.subplots()\n",
    "    plt.bar(x, count)\n",
    "    plt.xticks(x, tuple([str(i*10) + \"-\" + str((i+1)*10) + \"%\" for i in range(len(count))]), rotation=90)\n",
    "    \n",
    "    fig.suptitle('Precision of Detections boxes', fontsize=16)\n",
    "    axs.set_ylabel('nº images')\n",
    "    axs.set_xlabel('precision box')\n",
    "    plt.show()\n",
    "    \n",
    "    # create csv report\n",
    "    column_name = ['precision', 'nº boxes']\n",
    "    csvfile = open(csvfilepath, 'w')\n",
    "    writer = csv.writer(csvfile, delimiter=',', quotechar='|', quoting=csv.QUOTE_MINIMAL)\n",
    "    writer.writerow(column_name)\n",
    "    \n",
    "    for i in range(len(count)):\n",
    "        writer.writerow([str(i*10)+\"-\"+str((i+1)*10)+\"%\", count[i]])\n",
    "        \n",
    "    csvfile.close()"
   ]
  },
  {
   "cell_type": "markdown",
   "metadata": {},
   "source": [
    "### nº detections vs panel size and precision mean vs panel size graphs and report"
   ]
  },
  {
   "cell_type": "code",
   "execution_count": 12,
   "metadata": {},
   "outputs": [],
   "source": [
    "def percentagePanelSizeVsTotal(predictionMap, csvfilepath):\n",
    "    \"\"\"\n",
    "      create graphs and csv report for detecctions:\n",
    "          - nº detection vs panel size\n",
    "          - precision mean vs panel size\n",
    "    \"\"\"\n",
    "    # initials counts\n",
    "    count = [0,0,0,0,0,0,0]\n",
    "    meanArray = [[],[],[],[],[],[],[]]\n",
    "        \n",
    "    # loop over image IoU\n",
    "    for imageInfo in predictionMap.values():\n",
    "        if(len(imageInfo['boxes']) > 0):\n",
    "            for pred in imageInfo['boxes'].values():\n",
    "                size = pred['predictPanelSize']\n",
    "\n",
    "                # increment instance count\n",
    "                if((size >= 0.0) and (size < 0.1)):\n",
    "                    meanArray[0].append(pred['IoU'])\n",
    "                    count[0] += 1\n",
    "                elif((size >= 0.1) and (size < 0.2)):\n",
    "                    meanArray[1].append(pred['IoU'])\n",
    "                    count[1] += 1\n",
    "                elif((size >= 0.2) and (size < 0.3)):\n",
    "                    meanArray[2].append(pred['IoU'])\n",
    "                    count[2] += 1\n",
    "                elif((size >= 0.3) and (size < 0.4)):\n",
    "                    meanArray[3].append(pred['IoU'])\n",
    "                    count[3] += 1\n",
    "                elif((size >= 0.4) and (size < 0.5)):\n",
    "                    meanArray[4].append(pred['IoU'])\n",
    "                    count[4] += 1\n",
    "                elif((size >= 0.5) and (size < 0.6)):\n",
    "                    meanArray[5].append(pred['IoU'])\n",
    "                    count[5] += 1\n",
    "                elif((size >= 0.6) and (size < 0.7)):\n",
    "                    meanArray[6].append(pred['IoU'])\n",
    "                    count[6] += 1\n",
    "                    \n",
    "              \n",
    "    # create nº detections vs panel size graph\n",
    "    fig1 = plt.figure(1)\n",
    "    x = np.arange(len(count))\n",
    "    fig, axs = plt.subplots()\n",
    "    plt.bar(x, count)\n",
    "    plt.xticks(x, tuple([str(i)+\"-\"+str(i+10)+\"%\" for i in range(0,70,10)]))\n",
    "    axs.set_ylabel('nº detections')\n",
    "    axs.set_xlabel('panel size')\n",
    "    fig1.show()\n",
    "        \n",
    "    # create  precision mean vs panel size graph\n",
    "    fig2 = plt.figure(2)\n",
    "    means = [sum(elem)/len(elem) if (len(elem) > 0) else 0 for elem in meanArray]\n",
    "    fig, axs = plt.subplots()\n",
    "    y = np.arange(len(meanArray))\n",
    "    plt.bar(y, means)\n",
    "    axs.set_ylabel('precision mean')\n",
    "    axs.set_xlabel('panel size')\n",
    "    plt.xticks(y, tuple([str(i)+\"-\"+str(i+10)+\"%\" for i in range(0,70,10)]))\n",
    "    fig2.show()\n",
    "        \n",
    "    # create csv report\n",
    "    column_name = ['size','nº boxes', \"precision mean\"]\n",
    "    csvfile = open(csvfilepath, 'w')\n",
    "    writer = csv.writer(csvfile, delimiter=',', quotechar='|', quoting=csv.QUOTE_MINIMAL)\n",
    "    writer.writerow(column_name)\n",
    "    \n",
    "    for i in range(len(count)):\n",
    "        precision_mean = sum(meanArray[i])/len(meanArray[i]) if len(meanArray[i]) > 0 else 0\n",
    "        writer.writerow([str(i*10)+\"-\"+str((i+1)*10)+\"%\", count[i], precision_mean])\n",
    "\n",
    "    csvfile.close()"
   ]
  },
  {
   "cell_type": "markdown",
   "metadata": {},
   "source": [
    "### csv report with single detection info for each row"
   ]
  },
  {
   "cell_type": "code",
   "execution_count": 13,
   "metadata": {},
   "outputs": [],
   "source": [
    "def createCsvSeparatedData(predictedMap, filename):\n",
    "    \"\"\"\n",
    "        create csv report where each row is a single detection info\n",
    "    \"\"\"\n",
    "    with open(filename, mode='w') as report:\n",
    "        csvwriter = csv.writer(report, delimiter=',', quotechar='\"', quoting=csv.QUOTE_MINIMAL)\n",
    "        csvwriter.writerow(['imagename', 'sizeImage', 'panelsOnImage', 'box_id', 'sizeBox', 'IoU'])\n",
    "\n",
    "        for imagename in predictedMap.keys():\n",
    "            panelsOnImage  = predictedMap[imagename]['panelsOnImage']\n",
    "            sizeImage = predictedMap[imagename]['height_width']\n",
    "\n",
    "            for idx in predictedMap[imagename]['boxes']:\n",
    "                pmax, pmin = predictedMap[imagename]['boxes'][idx]['prediction']\n",
    "                sizeBox = (pmax[1] - pmin[1], pmax[0] - pmin[0])\n",
    "                IoU = predictedMap[imagename]['boxes'][idx]['IoU']\n",
    "                csvwriter.writerow([imagename, sizeImage, panelsOnImage, idx, sizeBox, IoU])"
   ]
  },
  {
   "cell_type": "markdown",
   "metadata": {},
   "source": [
    "# Main"
   ]
  },
  {
   "cell_type": "markdown",
   "metadata": {},
   "source": [
    "### Model Preparation\n",
    "\n",
    "Any model exported using the `export_inference_graph.py` tool can be loaded here simply by changing `PATH_TO_FROZEN_GRAPH` to point to a new .pb file. We use an \"SSD with Mobilenet\" model."
   ]
  },
  {
   "cell_type": "code",
   "execution_count": 14,
   "metadata": {},
   "outputs": [],
   "source": [
    "MODEL_NAME = 'publicity_graph'\n",
    "\n",
    "# Path to frozen detection graph.\n",
    "PATH_TO_FROZEN_GRAPH = MODEL_NAME + '/frozen_inference_graph.pb'\n",
    "\n",
    "# List of the strings that is used to add correct label for each box.\n",
    "PATH_TO_LABELS = os.path.join('training', 'object-detection.pbtxt')"
   ]
  },
  {
   "cell_type": "markdown",
   "metadata": {
    "colab_type": "text",
    "id": "YBcB9QHLWKMU"
   },
   "source": [
    "### load a Tensorflow model into memory."
   ]
  },
  {
   "cell_type": "code",
   "execution_count": 15,
   "metadata": {
    "colab": {
     "autoexec": {
      "startup": false,
      "wait_interval": 0
     }
    },
    "colab_type": "code",
    "id": "KezjCRVvWKMV"
   },
   "outputs": [],
   "source": [
    "detection_graph = tf.Graph()\n",
    "\n",
    "with detection_graph.as_default():\n",
    "    od_graph_def = tf.GraphDef()\n",
    "    with tf.gfile.GFile(PATH_TO_FROZEN_GRAPH, 'rb') as fid:\n",
    "        serialized_graph = fid.read()\n",
    "        od_graph_def.ParseFromString(serialized_graph)\n",
    "        tf.import_graph_def(od_graph_def, name='')"
   ]
  },
  {
   "cell_type": "markdown",
   "metadata": {
    "colab_type": "text",
    "id": "_1MVVTcLWKMW"
   },
   "source": [
    "### load label map\n",
    "Label maps map indices to category names, so that when our convolution ssd network predicts `1`, we know that this corresponds to `addpanel`."
   ]
  },
  {
   "cell_type": "code",
   "execution_count": 16,
   "metadata": {
    "colab": {
     "autoexec": {
      "startup": false,
      "wait_interval": 0
     }
    },
    "colab_type": "code",
    "id": "hDbpHkiWWKMX"
   },
   "outputs": [],
   "source": [
    "category_index = label_map_util.create_category_index_from_labelmap(PATH_TO_LABELS, use_display_name=True)"
   ]
  },
  {
   "cell_type": "markdown",
   "metadata": {
    "colab_type": "text",
    "id": "H0_1AGhrWKMc"
   },
   "source": [
    "### load test images paths"
   ]
  },
  {
   "cell_type": "code",
   "execution_count": 17,
   "metadata": {
    "colab": {
     "autoexec": {
      "startup": false,
      "wait_interval": 0
     }
    },
    "colab_type": "code",
    "id": "jG-zn5ykWKMd"
   },
   "outputs": [],
   "source": [
    "PATH_TO_TEST_IMAGES_DIR = 'test_images'\n",
    "IMAGE_SIZE = (12, 8)\n",
    "\n",
    "TEST_IMAGE_PATHS = [ os.path.join(PATH_TO_TEST_IMAGES_DIR, 'image{}.jpg'.format(i)) for i in range(0, 133) ]"
   ]
  },
  {
   "cell_type": "markdown",
   "metadata": {},
   "source": [
    "### show test images graph"
   ]
  },
  {
   "cell_type": "code",
   "execution_count": 18,
   "metadata": {},
   "outputs": [
    {
     "data": {
      "image/png": "[encoded data removed]",
      "text/plain": [
       "<matplotlib.figure.Figure at 0x7f90c509cd68>"
      ]
     },
     "metadata": {},
     "output_type": "display_data"
    }
   ],
   "source": [
    "groundTruthSizeGraph('test_images/via_region_data.json', 'csv_reports/size_panels.csv')"
   ]
  },
  {
   "cell_type": "markdown",
   "metadata": {},
   "source": [
    "### run inference over all test images"
   ]
  },
  {
   "cell_type": "code",
   "execution_count": 19,
   "metadata": {
    "colab": {
     "autoexec": {
      "startup": false,
      "wait_interval": 0
     }
    },
    "colab_type": "code",
    "id": "3a5wMHN8WKMh"
   },
   "outputs": [],
   "source": [
    "# map to save info of detections\n",
    "predictedPrecisionMap = {}\n",
    "\n",
    "# loop over each image to run inference\n",
    "for j, image_path in enumerate(TEST_IMAGE_PATHS):\n",
    "\n",
    "    # load image\n",
    "    image = Image.open(image_path)\n",
    "    image_np = load_image_into_numpy_array(image)\n",
    "    image_np_expanded = np.expand_dims(image_np, axis=0)\n",
    "\n",
    "    # run inference\n",
    "    output_dict = run_inference_for_single_image(image_np, detection_graph)\n",
    "    \n",
    "    # print inference result over image\n",
    "    vis_util.visualize_boxes_and_labels_on_image_array(image_np,\n",
    "                                                       output_dict['detection_boxes'],\n",
    "                                                       output_dict['detection_classes'],\n",
    "                                                       output_dict['detection_scores'],\n",
    "                                                       category_index,\n",
    "                                                       instance_masks=output_dict.get('detection_masks'),\n",
    "                                                       use_normalized_coordinates=True,\n",
    "                                                       line_thickness=8)\n",
    "\n",
    "\n",
    "    # get image size (w,h)\n",
    "    width, height = image.size\n",
    "\n",
    "    # get groundtruth image bounding boxes\n",
    "    boxesTruth = boundingBoxGroundTruth('test_images/via_region_data.json', image_path.split('/')[1])\n",
    "\n",
    "    # create a new section in the precision map\n",
    "    # for actual imagen and fill info\n",
    "    predictedPrecisionMap[image_path] = {\n",
    "                                          'imagesize': width * height,\n",
    "                                          'height_width': (height, width),\n",
    "                                          'panelsOnImage': len(boxesTruth),\n",
    "                                          'boxes': {}\n",
    "                                        }\n",
    "\n",
    "    # for each net detection over image\n",
    "    for i, box in enumerate(output_dict['detection_boxes']):\n",
    "\n",
    "        # if confidence is greater than 0.5\n",
    "        if(output_dict['detection_scores'][i] > 0.5):\n",
    "\n",
    "            # get normalize bounding box coordenates\n",
    "            xmin, ymin = int(box[1] * width), int(box[0] * height)\n",
    "            xmax, ymax = int(box[3] * width), int(box[2] * height)\n",
    "\n",
    "            #  get the index of appropiate groundtruh bounding\n",
    "            c1 = getCenterBox((xmin,ymin,xmax,ymax))\n",
    "            dist = [distance.euclidean(c1, getCenterBox(bt)) for bt in boxesTruth]\n",
    "            index = dist.index(min(dist))\n",
    "\n",
    "            # calculate IoU value of actual detecction\n",
    "            precision = bb_intersection_over_union(boxesTruth[index], (xmin,ymin,xmax,ymax))\n",
    "\n",
    "            # print groundtruth bounding box in blue color\n",
    "            xB, yB, xA, yA = boxesTruth[index]\n",
    "            cv2.rectangle(image_np, (xB, yB), (xA, yA), (255,0,0), 4)\n",
    "\n",
    "            # get size of groundtruth bounding box and predicted bounding box\n",
    "            panelSize = abs(xB - xA) * abs(yB - yA)\n",
    "            predictPanelSize = abs(xmax - xmin) * abs(ymax - ymin)\n",
    "\n",
    "            # save prediction info into the map\n",
    "            idx = len(predictedPrecisionMap[image_path]['boxes'])\n",
    "\n",
    "            predictedPrecisionMap[image_path]['boxes'][idx] = {\n",
    "                                                                'IoU':precision,\n",
    "                                                                'panelSize':pannelPercentageOccupacy(width * height, panelSize),\n",
    "                                                                'predictPanelSize' : pannelPercentageOccupacy(width * height, predictPanelSize),\n",
    "                                                                'prediction':[(xmax, ymax), (xmin, ymin)]\n",
    "                                                              }\n",
    "\n",
    "    # save image with printed detections into disk\n",
    "    cv2.imwrite(\"test_result/image\"+str(j)+\".jpg\", image_np)\n",
    "\n",
    "    \n",
    "# save predictions info into the disk\n",
    "with open('test_result/reports/result.json', 'w') as fp:\n",
    "    json.dump(predictedPrecisionMap, fp)\n"
   ]
  },
  {
   "cell_type": "markdown",
   "metadata": {},
   "source": [
    "### create graphs and reports "
   ]
  },
  {
   "cell_type": "code",
   "execution_count": 20,
   "metadata": {},
   "outputs": [
    {
     "data": {
      "image/png": "[encoded data removed]",
      "text/plain": [
       "<matplotlib.figure.Figure at 0x7f90bf4d3c88>"
      ]
     },
     "metadata": {},
     "output_type": "display_data"
    }
   ],
   "source": [
    "# create graph with precision info\n",
    "predictionsHistogram(predictedPrecisionMap, 'csv_reports/percentage_panels.csv') "
   ]
  },
  {
   "cell_type": "code",
   "execution_count": 21,
   "metadata": {},
   "outputs": [
    {
     "name": "stderr",
     "output_type": "stream",
     "text": [
      "/home/angel/.virtualenvs/cv/lib/python3.5/site-packages/matplotlib/figure.py:403: UserWarning: matplotlib is currently using a non-GUI backend, so cannot show the figure\n",
      "  \"matplotlib is currently using a non-GUI backend, \"\n"
     ]
    },
    {
     "data": {
      "text/plain": [
       "<matplotlib.figure.Figure at 0x7f90ac7e4e48>"
      ]
     },
     "metadata": {},
     "output_type": "display_data"
    },
    {
     "data": {
      "image/png": "[encoded data removed]",
      "text/plain": [
       "<matplotlib.figure.Figure at 0x7f9091e94ef0>"
      ]
     },
     "metadata": {},
     "output_type": "display_data"
    },
    {
     "data": {
      "image/png": "[encoded data removed]",
      "text/plain": [
       "<matplotlib.figure.Figure at 0x7f9091b348d0>"
      ]
     },
     "metadata": {},
     "output_type": "display_data"
    }
   ],
   "source": [
    "# create graphs and report for detections info\n",
    "percentagePanelSizeVsTotal(predictedPrecisionMap, 'csv_reports/size_panels_mean.csv')"
   ]
  },
  {
   "cell_type": "code",
   "execution_count": 22,
   "metadata": {},
   "outputs": [],
   "source": [
    "# create csv report with separate image detections information\n",
    "createCsvSeparatedData(predictedPrecisionMap, 'csv_reports/separated_report.csv')"
   ]
  }
 ],
 "metadata": {
  "colab": {
   "default_view": {},
   "name": "object_detection_tutorial.ipynb?workspaceId=ronnyvotel:python_inference::citc",
   "provenance": [],
   "version": "0.3.2",
   "views": {}
  },
  "kernelspec": {
   "display_name": "Python 2",
   "language": "python",
   "name": "python2"
  },
  "language_info": {
   "codemirror_mode": {
    "name": "ipython",
    "version": 3
   },
   "file_extension": ".py",
   "mimetype": "text/x-python",
   "name": "python",
   "nbconvert_exporter": "python",
   "pygments_lexer": "ipython3",
   "version": "3.5.2"
  }
 },
 "nbformat": 4,
 "nbformat_minor": 1
}
